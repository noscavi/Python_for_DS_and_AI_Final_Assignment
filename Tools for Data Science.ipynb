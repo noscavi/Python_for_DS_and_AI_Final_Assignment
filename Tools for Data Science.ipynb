{
    "cells": [
        {
            "metadata": {},
            "cell_type": "markdown",
            "source": "# My Jupyter Notebook on IBM Watson Studio"
        },
        {
            "metadata": {},
            "cell_type": "markdown",
            "source": "<b>  T I </b>\n"
        },
        {
            "metadata": {},
            "cell_type": "markdown",
            "source": "100% human\n"
        },
        {
            "metadata": {},
            "cell_type": "markdown",
            "source": "*I am interested in Data Science because I love to gain insight from data*"
        },
        {
            "metadata": {},
            "cell_type": "markdown",
            "source": "**The following code tests the Gauss formula**"
        },
        {
            "metadata": {},
            "cell_type": "code",
            "source": "def Gauss(n):\n    return (n*(n+1))/2\n\nGauss(100)==sum(range(101))",
            "execution_count": 6,
            "outputs": [
                {
                    "output_type": "execute_result",
                    "execution_count": 6,
                    "data": {
                        "text/plain": "True"
                    },
                    "metadata": {}
                }
            ]
        },
        {
            "metadata": {},
            "cell_type": "markdown",
            "source": "* one\n* two\n* three\n* one\n* two\n* three"
        }
    ],
    "metadata": {
        "kernelspec": {
            "name": "python3",
            "display_name": "Python 3.7",
            "language": "python"
        },
        "language_info": {
            "name": "python",
            "version": "3.7.9",
            "mimetype": "text/x-python",
            "codemirror_mode": {
                "name": "ipython",
                "version": 3
            },
            "pygments_lexer": "ipython3",
            "nbconvert_exporter": "python",
            "file_extension": ".py"
        }
    },
    "nbformat": 4,
    "nbformat_minor": 1
}